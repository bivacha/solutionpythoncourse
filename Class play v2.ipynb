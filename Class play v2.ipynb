{
 "cells": [
  {
   "cell_type": "code",
   "execution_count": 6,
   "metadata": {},
   "outputs": [
    {
     "name": "stdout",
     "output_type": "stream",
     "text": [
      "made from sugar: 2 4 10 laaddu halwa gulab_jamun\n",
      "made from ghee: 30 60 120 laaddu halwa gulab_jamun\n"
     ]
    }
   ],
   "source": [
    "class sweets(object):\n",
    "\n",
    "    def __init__(self, sugar,ghee):\n",
    "        self.sugar = sugar\n",
    "        self.ghee = ghee\n",
    "\n",
    "    def make_sweets_sugar(self):\n",
    "            print('made from sugar:',self.sugar*2,self.sugar*4,self.sugar*10,'laaddu','halwa','gulab_jamun')\n",
    "    def make_sweets_ghee(self):\n",
    "            print('made from ghee:',self.ghee*3,self.ghee*6,self.ghee*12,'laaddu','halwa','gulab_jamun')\n",
    "    def callother2(self):\n",
    "        self.make_sweets_ghee()\n",
    "        self.make_sweets_sugar()\n",
    "            \n",
    "            \n",
    "start_making= sweets(1,10)\n",
    "start_making.make_sweets_sugar()\n",
    "start_making.make_sweets_ghee()\n",
    "\n",
    "\n",
    "# happy_bday = Song([\"Happy birthday to you\",\n",
    "#                    \"I don't want to get sued\",\n",
    "#                    \"So I'll stop right there\"])\n",
    "\n",
    "# bulls_on_parade = Song([\"They rally around tha family\",\n",
    "#                         \"With pockets full of shells\"])\n",
    "\n",
    "# happy_bday.sing_me_a_song()\n",
    "\n",
    "# bulls_on_parade.sing_me_a_song()\n",
    "\n",
    "# song_lyrics = Song([\"It's been a long day without you my friend\",\n",
    "# \"And I'll tell you all about it when I see you again\",\n",
    "# \"We've come a long way from where we began\",\n",
    "# \"Oh I'll tell you all about it when I see you again\",\n",
    "# \"When I see you again\"])\n",
    "\n",
    "# song_lyrics.sing_me_a_song()"
   ]
  },
  {
   "cell_type": "code",
   "execution_count": 7,
   "metadata": {},
   "outputs": [
    {
     "name": "stdout",
     "output_type": "stream",
     "text": [
      "made from ghee: 30 60 120 laaddu halwa gulab_jamun\n",
      "made from sugar: 2 4 10 laaddu halwa gulab_jamun\n"
     ]
    }
   ],
   "source": [
    "start_making.callother2()\n"
   ]
  },
  {
   "cell_type": "code",
   "execution_count": 2,
   "metadata": {},
   "outputs": [
    {
     "name": "stdout",
     "output_type": "stream",
     "text": [
      "made from sugar: 2 444444 10 55.5 laaddu halwa gulab_jamun\n"
     ]
    }
   ],
   "source": [
    "class sweets(object):\n",
    "\n",
    "    def __init__(self, sugar,ghee):\n",
    "        self.sugar = sugar\n",
    "        self.ghee = ghee\n",
    "        self.const = 111111\n",
    "        self.daal = 222\n",
    "\n",
    "    def make_sweets_sugar(self):\n",
    "            print('made from sugar:',self.sugar*2,self.const*4,self.sugar*10,self.daal/4,'laaddu','halwa','gulab_jamun')\n",
    "   \n",
    "            \n",
    "start_making= sweets(1,10)\n",
    "start_making.make_sweets_sugar()\n",
    "\n",
    "\n",
    "# happy_bday = Song([\"Happy birthday to you\",\n",
    "#                    \"I don't want to get sued\",\n",
    "#                    \"So I'll stop right there\"])\n",
    "\n",
    "# bulls_on_parade = Song([\"They rally around tha family\",\n",
    "#                         \"With pockets full of shells\"])\n",
    "\n",
    "# happy_bday.sing_me_a_song()\n",
    "\n",
    "# bulls_on_parade.sing_me_a_song()\n",
    "\n",
    "# song_lyrics = Song([\"It's been a long day without you my friend\",\n",
    "# \"And I'll tell you all about it when I see you again\",\n",
    "# \"We've come a long way from where we began\",\n",
    "# \"Oh I'll tell you all about it when I see you again\",\n",
    "# \"When I see you again\"])\n",
    "\n",
    "# song_lyrics.sing_me_a_song()"
   ]
  },
  {
   "cell_type": "code",
   "execution_count": 36,
   "metadata": {},
   "outputs": [],
   "source": [
    "# Exercise 42: Is-A, Has-A, Objects, and Classes\n",
    "\n",
    "## Animal is-a object (yes, sort of confusing) look at the extra credit\n",
    "class Animal(object):\n",
    "    pass\n",
    "\n",
    "## class Dog is-a Animal\n",
    "class Dog(Animal):\n",
    "\n",
    "    def __init__(self, name='biva', dog_type='not yet decided'):\n",
    "        ## class Dog has a __init__ that takes self and name parameters\n",
    "        self.name = name\n",
    "        self.dog_type = dog_type\n",
    "\n",
    "## class Cat is-a Animal\n",
    "class Cat(Animal):\n",
    "\n",
    "    def __init__(self, name):\n",
    "        ## class Cat has a __init__ that takes self and name parameters\n",
    "        self.name = name\n",
    "\n",
    "## class Person is-a object\n",
    "class Person(object):\n",
    "\n",
    "    def __init__(self, name):\n",
    "        ## class Person has a __init__ that takes self and name parameters\n",
    "        self.name = name\n",
    "        \n",
    "        \n",
    "\n",
    "        ## Person has-a pet of some kind\n",
    "        self.pet = None\n",
    "\n",
    "## class Employee is-a Person\n",
    "class Employee(Person):\n",
    "\n",
    "    def __init__(self, name, salary):\n",
    "        ## hmm what is this strange magic?\n",
    "        ## Return a proxy object that delegates method calls to a parent or sibling class of type.\n",
    "        super(Employee, self).__init__(name)\n",
    "        ## Employee has-a salary attribute\n",
    "        self.salary = salary\n",
    "\n",
    "## class Fish is-a object\n",
    "class Fish(object):\n",
    "    pass\n",
    "\n",
    "## class Salmon is-a Fish\n",
    "class Salmon(Fish):\n",
    "    pass\n",
    "\n",
    "## class Salmon is-a Fish\n",
    "class Halibut(Fish):\n",
    "    pass\n",
    "\n",
    "\n",
    "## Set rover to an instance of Class Dog, which has-a attribute of name set to Rover.  Class Dog was called with params self and Rover.\n",
    "rover = Dog(\"Rover\")\n",
    "\n",
    "## Set set to an instance of Class Cat and has-a attribute name set to Sat. Class Cat was called with params self and Sat.\n",
    "sat = Cat(\"Sat\")\n",
    "\n",
    "## set mary to an instance of Person and has-a attribute name set to Mary\n",
    "mary = Person(\"Mary\")\n",
    "\n",
    "## from mary get the pet attribute and set it to sat\n",
    "mary.pet = sat\n",
    "\n",
    "## frank is-a Employee instance has-a attribute name of Frank and attribute salary of 120000\n",
    "frank = Employee(\"Frank\", 120000)\n",
    "\n",
    "## pet attribute of frank is-a rover\n",
    "frank.pet = rover\n",
    "\n",
    "## flipper is-a Fish instance\n",
    "flipper = Fish()\n",
    "\n",
    "## crouse is-a Salmon instance\n",
    "crouse = Salmon()\n",
    "\n",
    "## harry is Halibut instance\n",
    "harry = Halibut()"
   ]
  },
  {
   "cell_type": "code",
   "execution_count": 37,
   "metadata": {},
   "outputs": [
    {
     "data": {
      "text/plain": [
       "'Rover'"
      ]
     },
     "execution_count": 37,
     "metadata": {},
     "output_type": "execute_result"
    }
   ],
   "source": [
    "rover.name"
   ]
  },
  {
   "cell_type": "code",
   "execution_count": 38,
   "metadata": {},
   "outputs": [],
   "source": [
    "x = Dog()"
   ]
  },
  {
   "cell_type": "code",
   "execution_count": 39,
   "metadata": {},
   "outputs": [
    {
     "data": {
      "text/plain": [
       "'biva'"
      ]
     },
     "execution_count": 39,
     "metadata": {},
     "output_type": "execute_result"
    }
   ],
   "source": [
    "x.name"
   ]
  },
  {
   "cell_type": "code",
   "execution_count": 40,
   "metadata": {},
   "outputs": [
    {
     "data": {
      "text/plain": [
       "'not yet decided'"
      ]
     },
     "execution_count": 40,
     "metadata": {},
     "output_type": "execute_result"
    }
   ],
   "source": [
    "x.dog_type"
   ]
  },
  {
   "cell_type": "code",
   "execution_count": 41,
   "metadata": {},
   "outputs": [],
   "source": [
    "y = Dog('shivgan','indian')"
   ]
  },
  {
   "cell_type": "code",
   "execution_count": 42,
   "metadata": {},
   "outputs": [
    {
     "data": {
      "text/plain": [
       "'shivgan'"
      ]
     },
     "execution_count": 42,
     "metadata": {},
     "output_type": "execute_result"
    }
   ],
   "source": [
    "y.name"
   ]
  },
  {
   "cell_type": "code",
   "execution_count": 43,
   "metadata": {},
   "outputs": [
    {
     "data": {
      "text/plain": [
       "'indian'"
      ]
     },
     "execution_count": 43,
     "metadata": {},
     "output_type": "execute_result"
    }
   ],
   "source": [
    "y.dog_type"
   ]
  },
  {
   "cell_type": "code",
   "execution_count": null,
   "metadata": {},
   "outputs": [],
   "source": []
  }
 ],
 "metadata": {
  "kernelspec": {
   "display_name": "Python 3",
   "language": "python",
   "name": "python3"
  },
  "language_info": {
   "codemirror_mode": {
    "name": "ipython",
    "version": 3
   },
   "file_extension": ".py",
   "mimetype": "text/x-python",
   "name": "python",
   "nbconvert_exporter": "python",
   "pygments_lexer": "ipython3",
   "version": "3.6.5"
  }
 },
 "nbformat": 4,
 "nbformat_minor": 2
}
