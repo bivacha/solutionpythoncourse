{
 "cells": [
  {
   "cell_type": "code",
   "execution_count": 8,
   "metadata": {},
   "outputs": [
    {
     "name": "stdout",
     "output_type": "stream",
     "text": [
      "made from sugar: 2 4 10 laaddu halwa gulab_jamun\n",
      "made from ghee: 30 60 120 laaddu halwa gulab_jamun\n"
     ]
    }
   ],
   "source": [
    "class sweets(object):\n",
    "\n",
    "    def __init__(self, sugar,ghee):\n",
    "        self.sugar = sugar\n",
    "        self.ghee = ghee\n",
    "\n",
    "    def make_sweets_sugar(self):\n",
    "            print('made from sugar:',self.sugar*2,self.sugar*4,self.sugar*10,'laaddu','halwa','gulab_jamun')\n",
    "    def make_sweets_ghee(self):\n",
    "            print('made from ghee:',self.ghee*3,self.ghee*6,self.ghee*12,'laaddu','halwa','gulab_jamun')\n",
    "            \n",
    "            \n",
    "start_making= sweets(1,10)\n",
    "start_making.make_sweets_sugar()\n",
    "start_making.make_sweets_ghee()\n",
    "\n",
    "\n",
    "# happy_bday = Song([\"Happy birthday to you\",\n",
    "#                    \"I don't want to get sued\",\n",
    "#                    \"So I'll stop right there\"])\n",
    "\n",
    "# bulls_on_parade = Song([\"They rally around tha family\",\n",
    "#                         \"With pockets full of shells\"])\n",
    "\n",
    "# happy_bday.sing_me_a_song()\n",
    "\n",
    "# bulls_on_parade.sing_me_a_song()\n",
    "\n",
    "# song_lyrics = Song([\"It's been a long day without you my friend\",\n",
    "# \"And I'll tell you all about it when I see you again\",\n",
    "# \"We've come a long way from where we began\",\n",
    "# \"Oh I'll tell you all about it when I see you again\",\n",
    "# \"When I see you again\"])\n",
    "\n",
    "# song_lyrics.sing_me_a_song()"
   ]
  },
  {
   "cell_type": "code",
   "execution_count": 19,
   "metadata": {},
   "outputs": [
    {
     "name": "stdout",
     "output_type": "stream",
     "text": [
      "made from sugar: 2 444444 10 55.5 laaddu halwa gulab_jamun\n"
     ]
    }
   ],
   "source": [
    "class sweets(object):\n",
    "\n",
    "    def __init__(self, sugar,ghee):\n",
    "        self.sugar = sugar\n",
    "        self.ghee = ghee\n",
    "        self.const = 111111\n",
    "        self.daal = 222\n",
    "\n",
    "    def make_sweets_sugar(self):\n",
    "            print('made from sugar:',self.sugar*2,self.const*4,self.sugar*10,self.daal/4,'laaddu','halwa','gulab_jamun')\n",
    "   \n",
    "            \n",
    "start_making= sweets(1,10)\n",
    "start_making.make_sweets_sugar()\n",
    "\n",
    "\n",
    "# happy_bday = Song([\"Happy birthday to you\",\n",
    "#                    \"I don't want to get sued\",\n",
    "#                    \"So I'll stop right there\"])\n",
    "\n",
    "# bulls_on_parade = Song([\"They rally around tha family\",\n",
    "#                         \"With pockets full of shells\"])\n",
    "\n",
    "# happy_bday.sing_me_a_song()\n",
    "\n",
    "# bulls_on_parade.sing_me_a_song()\n",
    "\n",
    "# song_lyrics = Song([\"It's been a long day without you my friend\",\n",
    "# \"And I'll tell you all about it when I see you again\",\n",
    "# \"We've come a long way from where we began\",\n",
    "# \"Oh I'll tell you all about it when I see you again\",\n",
    "# \"When I see you again\"])\n",
    "\n",
    "# song_lyrics.sing_me_a_song()"
   ]
  },
  {
   "cell_type": "code",
   "execution_count": null,
   "metadata": {},
   "outputs": [],
   "source": []
  }
 ],
 "metadata": {
  "kernelspec": {
   "display_name": "Python 3",
   "language": "python",
   "name": "python3"
  },
  "language_info": {
   "codemirror_mode": {
    "name": "ipython",
    "version": 3
   },
   "file_extension": ".py",
   "mimetype": "text/x-python",
   "name": "python",
   "nbconvert_exporter": "python",
   "pygments_lexer": "ipython3",
   "version": "3.6.5"
  }
 },
 "nbformat": 4,
 "nbformat_minor": 2
}
