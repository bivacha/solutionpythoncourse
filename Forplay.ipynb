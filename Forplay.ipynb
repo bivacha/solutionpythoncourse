{
 "cells": [
  {
   "cell_type": "code",
   "execution_count": 1,
   "metadata": {},
   "outputs": [
    {
     "name": "stdout",
     "output_type": "stream",
     "text": [
      "Charlie\n",
      "Harry\n",
      "Frank\n",
      "Sarah\n",
      "Huda\n",
      "Samantha\n",
      "Elizabeth\n"
     ]
    }
   ],
   "source": [
    "students = {\n",
    "    \"male\": [\"Tom\", \"Charlie\", \"Harry\", \"Frank\"],\n",
    "    \"female\":[\"Sarah\", \"Huda\", \"Samantha\", \"Emily\", \"Elizabeth\"]\n",
    "    }\n",
    "\n",
    "for key in students.keys():\n",
    "    for name in students[key]:\n",
    "        if \"a\" in name:\n",
    "            print(name)\n",
    "\n",
    "\n",
    "            "
   ]
  },
  {
   "cell_type": "code",
   "execution_count": 6,
   "metadata": {},
   "outputs": [],
   "source": [
    "male= [\"Tom\", \"Charlie\", \"Harry\", \"Frank\", \"God\"]"
   ]
  },
  {
   "cell_type": "code",
   "execution_count": 7,
   "metadata": {},
   "outputs": [
    {
     "name": "stdout",
     "output_type": "stream",
     "text": [
      "Tom\n",
      "Charlie\n",
      "Harry\n",
      "Frank\n",
      "God\n"
     ]
    }
   ],
   "source": [
    "for i in male:\n",
    "    print(i)"
   ]
  },
  {
   "cell_type": "code",
   "execution_count": 8,
   "metadata": {},
   "outputs": [
    {
     "name": "stdout",
     "output_type": "stream",
     "text": [
      "T\n",
      "o\n",
      "m\n"
     ]
    }
   ],
   "source": [
    "for i in \"Tom\":\n",
    "    print(i)"
   ]
  },
  {
   "cell_type": "code",
   "execution_count": 10,
   "metadata": {},
   "outputs": [
    {
     "name": "stdout",
     "output_type": "stream",
     "text": [
      "1\n",
      "2\n"
     ]
    }
   ],
   "source": [
    "for i in '12':\n",
    "    print(i)"
   ]
  },
  {
   "cell_type": "code",
   "execution_count": 11,
   "metadata": {},
   "outputs": [
    {
     "name": "stdout",
     "output_type": "stream",
     "text": [
      "12\n",
      "13\n"
     ]
    }
   ],
   "source": [
    "for i in [12,13]:\n",
    "    print(i)"
   ]
  },
  {
   "cell_type": "code",
   "execution_count": 14,
   "metadata": {},
   "outputs": [
    {
     "name": "stdout",
     "output_type": "stream",
     "text": [
      "o is inside\n"
     ]
    }
   ],
   "source": [
    "if 'o' in \"Tom\":\n",
    "    print('o is inside')"
   ]
  },
  {
   "cell_type": "code",
   "execution_count": 23,
   "metadata": {},
   "outputs": [
    {
     "name": "stdout",
     "output_type": "stream",
     "text": [
      "Tom\n",
      "o is inside\n",
      "Charlie\n",
      "o is inside\n",
      "Harry\n",
      "o is inside\n",
      "Frank\n",
      "o is inside\n",
      "God\n",
      "o is inside\n"
     ]
    }
   ],
   "source": [
    "for i in male:\n",
    "    print(i)\n",
    "    if 'o' in \"Tom\":\n",
    "         print('o is inside')\n",
    "    else:\n",
    "        print ('o is not inside')"
   ]
  },
  {
   "cell_type": "code",
   "execution_count": 21,
   "metadata": {},
   "outputs": [
    {
     "name": "stdout",
     "output_type": "stream",
     "text": [
      "1 - Got a true expression value\n",
      "100\n"
     ]
    }
   ],
   "source": [
    "var1 = 100\n",
    "if var1:\n",
    "   print (\"1 - Got a true expression value\")\n",
    "   print (var1)\n",
    "else:\n",
    "   print (\"1 - Got a false expression value\")\n",
    "   print (var1)\n"
   ]
  },
  {
   "cell_type": "markdown",
   "metadata": {},
   "source": [
    "-\n",
    "I got an error so i corrected using sample code from a website after searching\n",
    "I found i did indentation mistake and also forogot to put :\n"
   ]
  },
  {
   "cell_type": "code",
   "execution_count": null,
   "metadata": {},
   "outputs": [],
   "source": []
  }
 ],
 "metadata": {
  "kernelspec": {
   "display_name": "Python 3",
   "language": "python",
   "name": "python3"
  },
  "language_info": {
   "codemirror_mode": {
    "name": "ipython",
    "version": 3
   },
   "file_extension": ".py",
   "mimetype": "text/x-python",
   "name": "python",
   "nbconvert_exporter": "python",
   "pygments_lexer": "ipython3",
   "version": "3.6.5"
  }
 },
 "nbformat": 4,
 "nbformat_minor": 2
}
